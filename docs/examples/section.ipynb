{
 "cells": [
  {
   "cell_type": "markdown",
   "id": "7ed2aca8-4beb-4351-8622-da5023ef2f29",
   "metadata": {},
   "source": [
    "# Section plots\n",
    "\n",
    "So pretty and useful!"
   ]
  },
  {
   "cell_type": "code",
   "execution_count": null,
   "id": "8aeb80ca-86f0-45af-b8cc-a3147db72164",
   "metadata": {},
   "outputs": [],
   "source": [
    "import emsarray\n",
    "import matplotlib.pyplot as plt\n",
    "import numpy as np\n",
    "import xarray as xr\n",
    "from emsarray.plot import plot_on_figure, bounds_to_extent\n",
    "from matplotlib import cm\n",
    "from matplotlib.patches import Polygon\n",
    "from matplotlib.collections import PatchCollection\n",
    "from matplotlib.patheffects import withStroke\n",
    "from shapely.geometry import LineString, Point"
   ]
  },
  {
   "cell_type": "code",
   "execution_count": null,
   "id": "302c8cc3-8fa1-48cd-b878-7cbdb0375f36",
   "metadata": {},
   "outputs": [],
   "source": [
    "%matplotlib inline\n",
    "\n",
    "# This makes the figures nice and big for this notebook\n",
    "from matplotlib import pyplot as plt\n",
    "plt.rcParams['figure.dpi'] = 100\n",
    "plt.rcParams['figure.figsize'] = (8, 5)\n",
    "plt.rcParams['savefig.dpi'] = 100\n",
    "\n",
    "# The coastlines used in the maps have some bad polygons,\n",
    "# which causes some warnings. Lets turn those off.\n",
    "import warnings\n",
    "warnings.filterwarnings(\n",
    "    \"ignore\", message=\"Shapefile shape has invalid polygon\",\n",
    "    category=UserWarning, module=\"shapefile\")"
   ]
  },
  {
   "cell_type": "code",
   "execution_count": null,
   "id": "17a28e94-84d8-4c42-be1f-208a5e35997e",
   "metadata": {},
   "outputs": [],
   "source": [
    "line = LineString([\n",
    "    [147.2888, -42.7910],\n",
    "    [147.2713, -42.8003],\n",
    "    [147.3088, -42.8220],\n",
    "    [147.3248, -42.8311],\n",
    "    [147.3299, -42.8399],\n",
    "    [147.3375, -42.8565],\n",
    "    [147.3497, -42.8821],\n",
    "    [147.3820, -42.9015],\n",
    "    [147.3832, -42.9440],\n",
    "    [147.3605, -43.0011],\n",
    "    [147.3874, -43.0637],\n",
    "    [147.4908, -43.1546],\n",
    "])\n",
    "\n",
    "landmarks = [\n",
    "    (\"Bowen Bridge\", Point(147.306646, -42.818007)),\n",
    "    # (\"Tasman Bridge\", Point(147.343568, -42.864934)),\n",
    "    (\"Battery Point\", Point(147.339205, -42.889375)),\n",
    "    (\"Kingston\", Point(147.326664, -42.979781)),\n",
    "    (\"Iron Pot\", Point(147.416533, -43.058994)),\n",
    "]\n",
    "\n",
    "dataset = emsarray.tutorial.open_dataset(\"ugrid_mesh2d\")\n",
    "# dataset['Mesh2_layers'].attrs['positive'] = 'up'\n",
    "dataset"
   ]
  },
  {
   "cell_type": "code",
   "execution_count": null,
   "id": "7a70196e-a99a-482d-aa1b-440b9e35bff5",
   "metadata": {},
   "outputs": [],
   "source": [
    "figure = plt.figure(figsize=(10, 6), dpi=100)\n",
    "plot_on_figure(figure, dataset.ems, scalar=dataset[\"Mesh2_depth\"], title=\"Bathymetry\")\n",
    "\n",
    "axes = figure.axes[0]\n",
    "axes.plot(*line.xy, color=\"blue\")\n",
    "axes.set_extent(bounds_to_extent(line.buffer(0.1).bounds))\n",
    "\n",
    "outline = withStroke(linewidth=2, foreground='w')\n",
    "axes.plot(\n",
    "    [p.x for l, p in landmarks], [p.y for l, p in landmarks], 'o',\n",
    "    markersize=3, color='black', path_effects=[outline])\n",
    "for label, point in landmarks:\n",
    "    axes.annotate(\n",
    "        label, (point.x, point.y),\n",
    "        xytext=(5, 0), textcoords='offset points',\n",
    "        color='black', path_effects=[outline], verticalalignment='center_baseline')"
   ]
  },
  {
   "cell_type": "code",
   "execution_count": null,
   "id": "7fb68b6d-d6f8-4a89-b824-62b9feda5314",
   "metadata": {},
   "outputs": [],
   "source": [
    "figure = plt.figure(figsize=(12, 3), dpi=100)\n",
    "section = sections.SectionPlot(dataset.ems, line, depth=dataset[\"Mesh2_layers\"])\n",
    "section.plot_on_figure(\n",
    "    figure=figure,\n",
    "    data_array=dataset[\"temp\"].isel(record=0),\n",
    "    bathymetry=dataset[\"Mesh2_depth\"],\n",
    "    landmarks=landmarks,\n",
    ")\n",
    "figure.tight_layout()"
   ]
  },
  {
   "cell_type": "code",
   "execution_count": null,
   "id": "8678c393-9c91-41c7-a440-c9b05d46722c",
   "metadata": {},
   "outputs": [],
   "source": [
    "from emsarray import sections\n",
    "from emsarray.utils import datetime_from_np_time\n",
    "\n",
    "from IPython.display import HTML\n",
    "import os.path\n",
    "from matplotlib import animation\n",
    "\n",
    "def make_title(np_time):\n",
    "    \"\"\"Generate a title for a frame of animation.\"\"\"\n",
    "    long_name = \"Temperature\"\n",
    "    py_time = datetime_from_np_time(np_time)\n",
    "    return f'{long_name}\\nTime: {py_time:%Y-%m-%d %H:%M}'\n",
    "\n",
    "dataset = emsarray.open_dataset(\"/home/hea211/example-datasets/setas_compas_all_2018-05.nc\")\n",
    "ds = dataset\n",
    "\n",
    "figure = plt.figure(figsize=(12, 3), dpi=100)\n",
    "figure.patch.set_facecolor('white')\n",
    "figure.patch.set_alpha(1)\n",
    "figure.transparent = False\n",
    "\n",
    "section = sections.SectionPlot(format=ds.ems, line=line, depth=ds[\"Mesh2_layers\"])\n",
    "anim = section.animate_on_figure(\n",
    "    figure=figure,\n",
    "    coordinate=ds[\"t\"],\n",
    "    data_array=ds[\"temp\"],\n",
    "    bathymetry=dataset[\"Mesh2_depth\"],\n",
    "    title=make_title,\n",
    "    landmarks=landmarks,\n",
    ")\n",
    "figure.tight_layout()\n",
    "\n",
    "writer = animation.FFMpegFileWriter(bitrate=-1, codec='mpeg4')\n",
    "video_path = os.path.abspath(\"../section-animation.mp4\")\n",
    "anim.save(video_path, writer=writer)\n",
    "print(\"Saved to\", video_path)\n",
    "\n",
    "gif_path = os.path.abspath(\"../section-animation.gif\")\n",
    "anim.save(gif_path)\n",
    "print(\"Saved to\", gif_path)"
   ]
  }
 ],
 "metadata": {
  "kernelspec": {
   "display_name": "Python 3 (ipykernel)",
   "language": "python",
   "name": "python3"
  },
  "language_info": {
   "codemirror_mode": {
    "name": "ipython",
    "version": 3
   },
   "file_extension": ".py",
   "mimetype": "text/x-python",
   "name": "python",
   "nbconvert_exporter": "python",
   "pygments_lexer": "ipython3",
   "version": "3.8.12"
  }
 },
 "nbformat": 4,
 "nbformat_minor": 5
}
